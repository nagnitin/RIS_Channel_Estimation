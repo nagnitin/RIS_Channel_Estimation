{
 "cells": [
  {
   "cell_type": "code",
   "execution_count": 2,
   "id": "59d086ad-381e-4640-9f9f-e9d750f50464",
   "metadata": {},
   "outputs": [],
   "source": [
    "def generate_multiuser_ris_dataset(U=4, N=64, num_samples=10000, L_paths=5, snr_range=range(0, 31, 5)):\n",
    "    dataset = []\n",
    "    for snr_db in snr_range:\n",
    "        snr_linear = 10 ** (snr_db / 10)\n",
    "        noise_std = np.sqrt(1 / (2 * snr_linear))\n",
    "        for _ in range(num_samples // len(snr_range)):\n",
    "            theta = np.random.uniform(0, 2*np.pi, N)\n",
    "            Q = np.diag(np.exp(1j * theta))  # RIS phase matrix [N×N]\n",
    "\n",
    "            H_all = []\n",
    "            y_all = []\n",
    "\n",
    "            for _ in range(U):\n",
    "                G = generate_sv_channel(L_paths, 1, N)        # BS→RIS: 1×N\n",
    "                F = generate_sv_channel(L_paths, N, 1)        # RIS→User: N×1\n",
    "\n",
    "                H = F.T @ Q @ G.T                             # H scalar\n",
    "                y = H + noise_std * (np.random.randn() + 1j * np.random.randn())\n",
    "\n",
    "                h_vec = (F.T @ Q).flatten() * G.flatten()     # Compressed channel vector\n",
    "                H_all.append(h_vec)\n",
    "                y_all.append(y)\n",
    "\n",
    "            dataset.append({\n",
    "                \"H_real\": np.real(H_all),\n",
    "                \"H_imag\": np.imag(H_all),\n",
    "                \"y_real\": np.real(y_all),\n",
    "                \"y_imag\": np.imag(y_all),\n",
    "                \"snr_db\": snr_db\n",
    "            })\n",
    "    return dataset\n"
   ]
  },
  {
   "cell_type": "code",
   "execution_count": 4,
   "id": "c76485a3-e41f-40bd-9519-143a98ce0f22",
   "metadata": {},
   "outputs": [
    {
     "ename": "NameError",
     "evalue": "name 'np' is not defined",
     "output_type": "error",
     "traceback": [
      "\u001b[0;31m---------------------------------------------------------------------------\u001b[0m",
      "\u001b[0;31mNameError\u001b[0m                                 Traceback (most recent call last)",
      "Cell \u001b[0;32mIn[4], line 1\u001b[0m\n\u001b[0;32m----> 1\u001b[0m data \u001b[38;5;241m=\u001b[39m generate_multiuser_ris_dataset()\n\u001b[1;32m      3\u001b[0m np\u001b[38;5;241m.\u001b[39msavez(\u001b[38;5;124m\"\u001b[39m\u001b[38;5;124mris_multiuser_dataset.npz\u001b[39m\u001b[38;5;124m\"\u001b[39m,\n\u001b[1;32m      4\u001b[0m          H_real\u001b[38;5;241m=\u001b[39mnp\u001b[38;5;241m.\u001b[39marray([d[\u001b[38;5;124m'\u001b[39m\u001b[38;5;124mH_real\u001b[39m\u001b[38;5;124m'\u001b[39m] \u001b[38;5;28;01mfor\u001b[39;00m d \u001b[38;5;129;01min\u001b[39;00m data]),   \u001b[38;5;66;03m# shape: (samples, U, N)\u001b[39;00m\n\u001b[1;32m      5\u001b[0m          H_imag\u001b[38;5;241m=\u001b[39mnp\u001b[38;5;241m.\u001b[39marray([d[\u001b[38;5;124m'\u001b[39m\u001b[38;5;124mH_imag\u001b[39m\u001b[38;5;124m'\u001b[39m] \u001b[38;5;28;01mfor\u001b[39;00m d \u001b[38;5;129;01min\u001b[39;00m data]),\n\u001b[1;32m      6\u001b[0m          y_real\u001b[38;5;241m=\u001b[39mnp\u001b[38;5;241m.\u001b[39marray([d[\u001b[38;5;124m'\u001b[39m\u001b[38;5;124my_real\u001b[39m\u001b[38;5;124m'\u001b[39m] \u001b[38;5;28;01mfor\u001b[39;00m d \u001b[38;5;129;01min\u001b[39;00m data]),\n\u001b[1;32m      7\u001b[0m          y_imag\u001b[38;5;241m=\u001b[39mnp\u001b[38;5;241m.\u001b[39marray([d[\u001b[38;5;124m'\u001b[39m\u001b[38;5;124my_imag\u001b[39m\u001b[38;5;124m'\u001b[39m] \u001b[38;5;28;01mfor\u001b[39;00m d \u001b[38;5;129;01min\u001b[39;00m data]),\n\u001b[1;32m      8\u001b[0m          snr_db\u001b[38;5;241m=\u001b[39mnp\u001b[38;5;241m.\u001b[39marray([d[\u001b[38;5;124m'\u001b[39m\u001b[38;5;124msnr_db\u001b[39m\u001b[38;5;124m'\u001b[39m] \u001b[38;5;28;01mfor\u001b[39;00m d \u001b[38;5;129;01min\u001b[39;00m data]))\n\u001b[1;32m     10\u001b[0m \u001b[38;5;28mprint\u001b[39m(\u001b[38;5;124m\"\u001b[39m\u001b[38;5;124m✅ Saved multi-user RIS dataset.\u001b[39m\u001b[38;5;124m\"\u001b[39m)\n",
      "Cell \u001b[0;32mIn[2], line 5\u001b[0m, in \u001b[0;36mgenerate_multiuser_ris_dataset\u001b[0;34m(U, N, num_samples, L_paths, snr_range)\u001b[0m\n\u001b[1;32m      3\u001b[0m \u001b[38;5;28;01mfor\u001b[39;00m snr_db \u001b[38;5;129;01min\u001b[39;00m snr_range:\n\u001b[1;32m      4\u001b[0m     snr_linear \u001b[38;5;241m=\u001b[39m \u001b[38;5;241m10\u001b[39m \u001b[38;5;241m*\u001b[39m\u001b[38;5;241m*\u001b[39m (snr_db \u001b[38;5;241m/\u001b[39m \u001b[38;5;241m10\u001b[39m)\n\u001b[0;32m----> 5\u001b[0m     noise_std \u001b[38;5;241m=\u001b[39m np\u001b[38;5;241m.\u001b[39msqrt(\u001b[38;5;241m1\u001b[39m \u001b[38;5;241m/\u001b[39m (\u001b[38;5;241m2\u001b[39m \u001b[38;5;241m*\u001b[39m snr_linear))\n\u001b[1;32m      6\u001b[0m     \u001b[38;5;28;01mfor\u001b[39;00m _ \u001b[38;5;129;01min\u001b[39;00m \u001b[38;5;28mrange\u001b[39m(num_samples \u001b[38;5;241m/\u001b[39m\u001b[38;5;241m/\u001b[39m \u001b[38;5;28mlen\u001b[39m(snr_range)):\n\u001b[1;32m      7\u001b[0m         theta \u001b[38;5;241m=\u001b[39m np\u001b[38;5;241m.\u001b[39mrandom\u001b[38;5;241m.\u001b[39muniform(\u001b[38;5;241m0\u001b[39m, \u001b[38;5;241m2\u001b[39m\u001b[38;5;241m*\u001b[39mnp\u001b[38;5;241m.\u001b[39mpi, N)\n",
      "\u001b[0;31mNameError\u001b[0m: name 'np' is not defined"
     ]
    }
   ],
   "source": [
    "data = generate_multiuser_ris_dataset()\n",
    "\n",
    "np.savez(\"ris_multiuser_dataset.npz\",\n",
    "         H_real=np.array([d['H_real'] for d in data]),   # shape: (samples, U, N)\n",
    "         H_imag=np.array([d['H_imag'] for d in data]),\n",
    "         y_real=np.array([d['y_real'] for d in data]),\n",
    "         y_imag=np.array([d['y_imag'] for d in data]),\n",
    "         snr_db=np.array([d['snr_db'] for d in data]))\n",
    "\n",
    "print(\"✅ Saved multi-user RIS dataset.\")\n"
   ]
  },
  {
   "cell_type": "code",
   "execution_count": 6,
   "id": "cd597e4e-02bd-41c7-948a-db56e96d7c11",
   "metadata": {},
   "outputs": [],
   "source": [
    "import numpy as np\n"
   ]
  },
  {
   "cell_type": "code",
   "execution_count": 8,
   "id": "dc039e30-f8ef-47a3-8322-36113086300d",
   "metadata": {},
   "outputs": [],
   "source": [
    "def generate_multiuser_ris_dataset(U=4, N=64, num_samples=10000, L_paths=5, snr_range=range(0, 31, 5)):\n",
    "    dataset = []\n",
    "    for snr_db in snr_range:\n",
    "        snr_linear = 10 ** (snr_db / 10)\n",
    "        noise_std = np.sqrt(1 / (2 * snr_linear))\n",
    "        for _ in range(num_samples // len(snr_range)):\n",
    "            theta = np.random.uniform(0, 2*np.pi, N)\n",
    "            Q = np.diag(np.exp(1j * theta))  # RIS phase matrix\n",
    "\n",
    "            H_all, y_all = [], []\n",
    "            for _ in range(U):\n",
    "                G = generate_sv_channel(L_paths, 1, N)\n",
    "                F = generate_sv_channel(L_paths, N, 1)\n",
    "                H = F.T @ Q @ G.T\n",
    "                y = H + noise_std * (np.random.randn() + 1j * np.random.randn())\n",
    "                h_vec = (F.T @ Q).flatten() * G.flatten()\n",
    "                H_all.append(h_vec)\n",
    "                y_all.append(y)\n",
    "\n",
    "            dataset.append({\n",
    "                \"H_real\": np.real(H_all),\n",
    "                \"H_imag\": np.imag(H_all),\n",
    "                \"y_real\": np.real(y_all),\n",
    "                \"y_imag\": np.imag(y_all),\n",
    "                \"snr_db\": snr_db\n",
    "            })\n",
    "    return dataset\n"
   ]
  },
  {
   "cell_type": "code",
   "execution_count": 10,
   "id": "5c033784-df2f-4a63-924d-02f0f0ec3bd0",
   "metadata": {},
   "outputs": [
    {
     "ename": "NameError",
     "evalue": "name 'generate_sv_channel' is not defined",
     "output_type": "error",
     "traceback": [
      "\u001b[0;31m---------------------------------------------------------------------------\u001b[0m",
      "\u001b[0;31mNameError\u001b[0m                                 Traceback (most recent call last)",
      "Cell \u001b[0;32mIn[10], line 1\u001b[0m\n\u001b[0;32m----> 1\u001b[0m data \u001b[38;5;241m=\u001b[39m generate_multiuser_ris_dataset()\n",
      "Cell \u001b[0;32mIn[8], line 12\u001b[0m, in \u001b[0;36mgenerate_multiuser_ris_dataset\u001b[0;34m(U, N, num_samples, L_paths, snr_range)\u001b[0m\n\u001b[1;32m     10\u001b[0m H_all, y_all \u001b[38;5;241m=\u001b[39m [], []\n\u001b[1;32m     11\u001b[0m \u001b[38;5;28;01mfor\u001b[39;00m _ \u001b[38;5;129;01min\u001b[39;00m \u001b[38;5;28mrange\u001b[39m(U):\n\u001b[0;32m---> 12\u001b[0m     G \u001b[38;5;241m=\u001b[39m generate_sv_channel(L_paths, \u001b[38;5;241m1\u001b[39m, N)\n\u001b[1;32m     13\u001b[0m     F \u001b[38;5;241m=\u001b[39m generate_sv_channel(L_paths, N, \u001b[38;5;241m1\u001b[39m)\n\u001b[1;32m     14\u001b[0m     H \u001b[38;5;241m=\u001b[39m F\u001b[38;5;241m.\u001b[39mT \u001b[38;5;241m@\u001b[39m Q \u001b[38;5;241m@\u001b[39m G\u001b[38;5;241m.\u001b[39mT\n",
      "\u001b[0;31mNameError\u001b[0m: name 'generate_sv_channel' is not defined"
     ]
    }
   ],
   "source": [
    "data = generate_multiuser_ris_dataset()\n"
   ]
  },
  {
   "cell_type": "code",
   "execution_count": 12,
   "id": "3536896a-3851-448b-a0a5-b9e5cdafdee1",
   "metadata": {},
   "outputs": [],
   "source": [
    "def array_response(angle, size, d=0.05, wavelength=0.1):\n",
    "    k = 2 * np.pi / wavelength\n",
    "    return np.exp(1j * k * d * np.arange(size) * np.sin(angle))\n",
    "\n",
    "def generate_sv_channel(num_paths, tx_size, rx_size):\n",
    "    H = np.zeros((rx_size, tx_size), dtype=complex)\n",
    "    for _ in range(num_paths):\n",
    "        alpha = (np.random.randn() + 1j*np.random.randn()) / np.sqrt(2)\n",
    "        theta_t = np.random.uniform(-np.pi/2, np.pi/2)\n",
    "        theta_r = np.random.uniform(-np.pi/2, np.pi/2)\n",
    "        at = array_response(theta_t, tx_size)\n",
    "        ar = array_response(theta_r, rx_size)\n",
    "        H += alpha * np.outer(ar, at.conj())\n",
    "    return H\n"
   ]
  },
  {
   "cell_type": "code",
   "execution_count": 14,
   "id": "44016291-86d9-48af-bd25-6256984a3238",
   "metadata": {},
   "outputs": [
    {
     "ename": "ValueError",
     "evalue": "matmul: Input operand 1 has a mismatch in its core dimension 0, with gufunc signature (n?,k),(k,m?)->(n?,m?) (size 64 is different from 1)",
     "output_type": "error",
     "traceback": [
      "\u001b[0;31m---------------------------------------------------------------------------\u001b[0m",
      "\u001b[0;31mValueError\u001b[0m                                Traceback (most recent call last)",
      "Cell \u001b[0;32mIn[14], line 1\u001b[0m\n\u001b[0;32m----> 1\u001b[0m data \u001b[38;5;241m=\u001b[39m generate_multiuser_ris_dataset()\n",
      "Cell \u001b[0;32mIn[8], line 14\u001b[0m, in \u001b[0;36mgenerate_multiuser_ris_dataset\u001b[0;34m(U, N, num_samples, L_paths, snr_range)\u001b[0m\n\u001b[1;32m     12\u001b[0m G \u001b[38;5;241m=\u001b[39m generate_sv_channel(L_paths, \u001b[38;5;241m1\u001b[39m, N)\n\u001b[1;32m     13\u001b[0m F \u001b[38;5;241m=\u001b[39m generate_sv_channel(L_paths, N, \u001b[38;5;241m1\u001b[39m)\n\u001b[0;32m---> 14\u001b[0m H \u001b[38;5;241m=\u001b[39m F\u001b[38;5;241m.\u001b[39mT \u001b[38;5;241m@\u001b[39m Q \u001b[38;5;241m@\u001b[39m G\u001b[38;5;241m.\u001b[39mT\n\u001b[1;32m     15\u001b[0m y \u001b[38;5;241m=\u001b[39m H \u001b[38;5;241m+\u001b[39m noise_std \u001b[38;5;241m*\u001b[39m (np\u001b[38;5;241m.\u001b[39mrandom\u001b[38;5;241m.\u001b[39mrandn() \u001b[38;5;241m+\u001b[39m \u001b[38;5;241m1\u001b[39mj \u001b[38;5;241m*\u001b[39m np\u001b[38;5;241m.\u001b[39mrandom\u001b[38;5;241m.\u001b[39mrandn())\n\u001b[1;32m     16\u001b[0m h_vec \u001b[38;5;241m=\u001b[39m (F\u001b[38;5;241m.\u001b[39mT \u001b[38;5;241m@\u001b[39m Q)\u001b[38;5;241m.\u001b[39mflatten() \u001b[38;5;241m*\u001b[39m G\u001b[38;5;241m.\u001b[39mflatten()\n",
      "\u001b[0;31mValueError\u001b[0m: matmul: Input operand 1 has a mismatch in its core dimension 0, with gufunc signature (n?,k),(k,m?)->(n?,m?) (size 64 is different from 1)"
     ]
    }
   ],
   "source": [
    "data = generate_multiuser_ris_dataset()\n"
   ]
  },
  {
   "cell_type": "code",
   "execution_count": 16,
   "id": "eb54c64e-997f-4bc4-a26e-e9f76a9fe1ba",
   "metadata": {},
   "outputs": [],
   "source": [
    "import numpy as np\n",
    "\n",
    "# --- Helper functions ---\n",
    "def array_response(angle, size, d=0.05, wavelength=0.1):\n",
    "    k = 2 * np.pi / wavelength\n",
    "    return np.exp(1j * k * d * np.arange(size) * np.sin(angle))\n",
    "\n",
    "def generate_sv_channel(num_paths, tx_size, rx_size):\n",
    "    H = np.zeros((rx_size, tx_size), dtype=complex)\n",
    "    for _ in range(num_paths):\n",
    "        alpha = (np.random.randn() + 1j*np.random.randn()) / np.sqrt(2)\n",
    "        theta_t = np.random.uniform(-np.pi/2, np.pi/2)\n",
    "        theta_r = np.random.uniform(-np.pi/2, np.pi/2)\n",
    "        at = array_response(theta_t, tx_size)\n",
    "        ar = array_response(theta_r, rx_size)\n",
    "        H += alpha * np.outer(ar, at.conj())\n",
    "    return H\n",
    "\n",
    "# --- Main generator function ---\n",
    "def generate_multiuser_ris_dataset(U=4, N=64, num_samples=10000, L_paths=5, snr_range=range(0, 31, 5)):\n",
    "    dataset = []\n",
    "    for snr_db in snr_range:\n",
    "        snr_linear = 10 ** (snr_db / 10)\n",
    "        noise_std = np.sqrt(1 / (2 * snr_linear))\n",
    "\n",
    "        for _ in range(num_samples // len(snr_range)):\n",
    "            theta = np.random.uniform(0, 2*np.pi, N)\n",
    "            Q = np.diag(np.exp(1j * theta))  # RIS phase matrix\n",
    "\n",
    "            H_all, y_all = [], []\n",
    "\n",
    "            for _ in range(U):\n",
    "                G = generate_sv_channel(L_paths, 1, N)  # BS→RIS\n",
    "                F = generate_sv_channel(L_paths, N, 1)  # RIS→User\n",
    "\n",
    "                H = F.T @ Q @ G  # ✅ shape: (1×1)\n",
    "                y = H + noise_std * (np.random.randn() + 1j * np.random.randn())\n",
    "\n",
    "                h_vec = (F.T @ Q).flatten() * G.flatten()  # compressed vector: shape (N,)\n",
    "                H_all.append(h_vec)\n",
    "                y_all.append(y)\n",
    "\n",
    "            dataset.append({\n",
    "                \"H_real\": np.real(H_all),   # shape: (U, N)\n",
    "                \"H_imag\": np.imag(H_all),\n",
    "                \"y_real\": np.real(y_all),   # shape: (U,)\n",
    "                \"y_imag\": np.imag(y_all),\n",
    "                \"snr_db\": snr_db\n",
    "            })\n",
    "\n",
    "    return dataset\n"
   ]
  },
  {
   "cell_type": "code",
   "execution_count": 18,
   "id": "8470aaca-8f7b-492d-a8a3-5d630f910453",
   "metadata": {},
   "outputs": [
    {
     "ename": "ValueError",
     "evalue": "matmul: Input operand 1 has a mismatch in its core dimension 0, with gufunc signature (n?,k),(k,m?)->(n?,m?) (size 64 is different from 1)",
     "output_type": "error",
     "traceback": [
      "\u001b[0;31m---------------------------------------------------------------------------\u001b[0m",
      "\u001b[0;31mValueError\u001b[0m                                Traceback (most recent call last)",
      "Cell \u001b[0;32mIn[18], line 1\u001b[0m\n\u001b[0;32m----> 1\u001b[0m data \u001b[38;5;241m=\u001b[39m generate_multiuser_ris_dataset()\n\u001b[1;32m      3\u001b[0m np\u001b[38;5;241m.\u001b[39msavez(\u001b[38;5;124m\"\u001b[39m\u001b[38;5;124mris_multiuser_dataset.npz\u001b[39m\u001b[38;5;124m\"\u001b[39m,\n\u001b[1;32m      4\u001b[0m          H_real\u001b[38;5;241m=\u001b[39mnp\u001b[38;5;241m.\u001b[39marray([d[\u001b[38;5;124m'\u001b[39m\u001b[38;5;124mH_real\u001b[39m\u001b[38;5;124m'\u001b[39m] \u001b[38;5;28;01mfor\u001b[39;00m d \u001b[38;5;129;01min\u001b[39;00m data]),   \u001b[38;5;66;03m# shape: (samples, U, N)\u001b[39;00m\n\u001b[1;32m      5\u001b[0m          H_imag\u001b[38;5;241m=\u001b[39mnp\u001b[38;5;241m.\u001b[39marray([d[\u001b[38;5;124m'\u001b[39m\u001b[38;5;124mH_imag\u001b[39m\u001b[38;5;124m'\u001b[39m] \u001b[38;5;28;01mfor\u001b[39;00m d \u001b[38;5;129;01min\u001b[39;00m data]),\n\u001b[1;32m      6\u001b[0m          y_real\u001b[38;5;241m=\u001b[39mnp\u001b[38;5;241m.\u001b[39marray([d[\u001b[38;5;124m'\u001b[39m\u001b[38;5;124my_real\u001b[39m\u001b[38;5;124m'\u001b[39m] \u001b[38;5;28;01mfor\u001b[39;00m d \u001b[38;5;129;01min\u001b[39;00m data]),\n\u001b[1;32m      7\u001b[0m          y_imag\u001b[38;5;241m=\u001b[39mnp\u001b[38;5;241m.\u001b[39marray([d[\u001b[38;5;124m'\u001b[39m\u001b[38;5;124my_imag\u001b[39m\u001b[38;5;124m'\u001b[39m] \u001b[38;5;28;01mfor\u001b[39;00m d \u001b[38;5;129;01min\u001b[39;00m data]),\n\u001b[1;32m      8\u001b[0m          snr_db\u001b[38;5;241m=\u001b[39mnp\u001b[38;5;241m.\u001b[39marray([d[\u001b[38;5;124m'\u001b[39m\u001b[38;5;124msnr_db\u001b[39m\u001b[38;5;124m'\u001b[39m] \u001b[38;5;28;01mfor\u001b[39;00m d \u001b[38;5;129;01min\u001b[39;00m data]))\n\u001b[1;32m     10\u001b[0m \u001b[38;5;28mprint\u001b[39m(\u001b[38;5;124m\"\u001b[39m\u001b[38;5;124m✅ Multi-user RIS dataset saved as \u001b[39m\u001b[38;5;124m'\u001b[39m\u001b[38;5;124mris_multiuser_dataset.npz\u001b[39m\u001b[38;5;124m'\u001b[39m\u001b[38;5;124m\"\u001b[39m)\n",
      "Cell \u001b[0;32mIn[16], line 36\u001b[0m, in \u001b[0;36mgenerate_multiuser_ris_dataset\u001b[0;34m(U, N, num_samples, L_paths, snr_range)\u001b[0m\n\u001b[1;32m     33\u001b[0m G \u001b[38;5;241m=\u001b[39m generate_sv_channel(L_paths, \u001b[38;5;241m1\u001b[39m, N)  \u001b[38;5;66;03m# BS→RIS\u001b[39;00m\n\u001b[1;32m     34\u001b[0m F \u001b[38;5;241m=\u001b[39m generate_sv_channel(L_paths, N, \u001b[38;5;241m1\u001b[39m)  \u001b[38;5;66;03m# RIS→User\u001b[39;00m\n\u001b[0;32m---> 36\u001b[0m H \u001b[38;5;241m=\u001b[39m F\u001b[38;5;241m.\u001b[39mT \u001b[38;5;241m@\u001b[39m Q \u001b[38;5;241m@\u001b[39m G  \u001b[38;5;66;03m# ✅ shape: (1×1)\u001b[39;00m\n\u001b[1;32m     37\u001b[0m y \u001b[38;5;241m=\u001b[39m H \u001b[38;5;241m+\u001b[39m noise_std \u001b[38;5;241m*\u001b[39m (np\u001b[38;5;241m.\u001b[39mrandom\u001b[38;5;241m.\u001b[39mrandn() \u001b[38;5;241m+\u001b[39m \u001b[38;5;241m1\u001b[39mj \u001b[38;5;241m*\u001b[39m np\u001b[38;5;241m.\u001b[39mrandom\u001b[38;5;241m.\u001b[39mrandn())\n\u001b[1;32m     39\u001b[0m h_vec \u001b[38;5;241m=\u001b[39m (F\u001b[38;5;241m.\u001b[39mT \u001b[38;5;241m@\u001b[39m Q)\u001b[38;5;241m.\u001b[39mflatten() \u001b[38;5;241m*\u001b[39m G\u001b[38;5;241m.\u001b[39mflatten()  \u001b[38;5;66;03m# compressed vector: shape (N,)\u001b[39;00m\n",
      "\u001b[0;31mValueError\u001b[0m: matmul: Input operand 1 has a mismatch in its core dimension 0, with gufunc signature (n?,k),(k,m?)->(n?,m?) (size 64 is different from 1)"
     ]
    }
   ],
   "source": [
    "data = generate_multiuser_ris_dataset()\n",
    "\n",
    "np.savez(\"ris_multiuser_dataset.npz\",\n",
    "         H_real=np.array([d['H_real'] for d in data]),   # shape: (samples, U, N)\n",
    "         H_imag=np.array([d['H_imag'] for d in data]),\n",
    "         y_real=np.array([d['y_real'] for d in data]),\n",
    "         y_imag=np.array([d['y_imag'] for d in data]),\n",
    "         snr_db=np.array([d['snr_db'] for d in data]))\n",
    "\n",
    "print(\"✅ Multi-user RIS dataset saved as 'ris_multiuser_dataset.npz'\")\n"
   ]
  },
  {
   "cell_type": "code",
   "execution_count": 20,
   "id": "8a4f26ab-45f1-4ae5-a63b-70bd88db826b",
   "metadata": {},
   "outputs": [],
   "source": [
    "def generate_multiuser_ris_dataset(U=4, N=64, num_samples=10000, L_paths=5, snr_range=range(0, 31, 5)):\n",
    "    dataset = []\n",
    "    for snr_db in snr_range:\n",
    "        snr_linear = 10 ** (snr_db / 10)\n",
    "        noise_std = np.sqrt(1 / (2 * snr_linear))\n",
    "\n",
    "        for _ in range(num_samples // len(snr_range)):\n",
    "            theta = np.random.uniform(0, 2*np.pi, N)\n",
    "            Q = np.diag(np.exp(1j * theta))\n",
    "\n",
    "            H_all, y_all = [], []\n",
    "\n",
    "            for _ in range(U):\n",
    "                G = generate_sv_channel(L_paths, N, 1)  # ✅ FIXED\n",
    "                F = generate_sv_channel(L_paths, N, 1)\n",
    "\n",
    "                H = F.T @ Q @ G  # ✅ (1×N) @ (N×N) @ (N×1) = (1×1)\n",
    "                y = H + noise_std * (np.random.randn() + 1j * np.random.randn())\n",
    "\n",
    "                h_vec = (F.T @ Q).flatten() * G.flatten()\n",
    "                H_all.append(h_vec)\n",
    "                y_all.append(y)\n",
    "\n",
    "            dataset.append({\n",
    "                \"H_real\": np.real(H_all),\n",
    "                \"H_imag\": np.imag(H_all),\n",
    "                \"y_real\": np.real(y_all),\n",
    "                \"y_imag\": np.imag(y_all),\n",
    "                \"snr_db\": snr_db\n",
    "            })\n",
    "\n",
    "    return dataset\n"
   ]
  },
  {
   "cell_type": "code",
   "execution_count": 22,
   "id": "306d2eed-2d1f-462f-b48e-26969a4dd4b8",
   "metadata": {},
   "outputs": [
    {
     "ename": "ValueError",
     "evalue": "matmul: Input operand 1 has a mismatch in its core dimension 0, with gufunc signature (n?,k),(k,m?)->(n?,m?) (size 64 is different from 1)",
     "output_type": "error",
     "traceback": [
      "\u001b[0;31m---------------------------------------------------------------------------\u001b[0m",
      "\u001b[0;31mValueError\u001b[0m                                Traceback (most recent call last)",
      "Cell \u001b[0;32mIn[22], line 1\u001b[0m\n\u001b[0;32m----> 1\u001b[0m data \u001b[38;5;241m=\u001b[39m generate_multiuser_ris_dataset()\n\u001b[1;32m      3\u001b[0m np\u001b[38;5;241m.\u001b[39msavez(\u001b[38;5;124m\"\u001b[39m\u001b[38;5;124mris_multiuser_dataset.npz\u001b[39m\u001b[38;5;124m\"\u001b[39m,\n\u001b[1;32m      4\u001b[0m          H_real\u001b[38;5;241m=\u001b[39mnp\u001b[38;5;241m.\u001b[39marray([d[\u001b[38;5;124m'\u001b[39m\u001b[38;5;124mH_real\u001b[39m\u001b[38;5;124m'\u001b[39m] \u001b[38;5;28;01mfor\u001b[39;00m d \u001b[38;5;129;01min\u001b[39;00m data]),\n\u001b[1;32m      5\u001b[0m          H_imag\u001b[38;5;241m=\u001b[39mnp\u001b[38;5;241m.\u001b[39marray([d[\u001b[38;5;124m'\u001b[39m\u001b[38;5;124mH_imag\u001b[39m\u001b[38;5;124m'\u001b[39m] \u001b[38;5;28;01mfor\u001b[39;00m d \u001b[38;5;129;01min\u001b[39;00m data]),\n\u001b[1;32m      6\u001b[0m          y_real\u001b[38;5;241m=\u001b[39mnp\u001b[38;5;241m.\u001b[39marray([d[\u001b[38;5;124m'\u001b[39m\u001b[38;5;124my_real\u001b[39m\u001b[38;5;124m'\u001b[39m] \u001b[38;5;28;01mfor\u001b[39;00m d \u001b[38;5;129;01min\u001b[39;00m data]),\n\u001b[1;32m      7\u001b[0m          y_imag\u001b[38;5;241m=\u001b[39mnp\u001b[38;5;241m.\u001b[39marray([d[\u001b[38;5;124m'\u001b[39m\u001b[38;5;124my_imag\u001b[39m\u001b[38;5;124m'\u001b[39m] \u001b[38;5;28;01mfor\u001b[39;00m d \u001b[38;5;129;01min\u001b[39;00m data]),\n\u001b[1;32m      8\u001b[0m          snr_db\u001b[38;5;241m=\u001b[39mnp\u001b[38;5;241m.\u001b[39marray([d[\u001b[38;5;124m'\u001b[39m\u001b[38;5;124msnr_db\u001b[39m\u001b[38;5;124m'\u001b[39m] \u001b[38;5;28;01mfor\u001b[39;00m d \u001b[38;5;129;01min\u001b[39;00m data]))\n\u001b[1;32m     10\u001b[0m \u001b[38;5;28mprint\u001b[39m(\u001b[38;5;124m\"\u001b[39m\u001b[38;5;124m✅ Multi-user RIS dataset saved.\u001b[39m\u001b[38;5;124m\"\u001b[39m)\n",
      "Cell \u001b[0;32mIn[20], line 17\u001b[0m, in \u001b[0;36mgenerate_multiuser_ris_dataset\u001b[0;34m(U, N, num_samples, L_paths, snr_range)\u001b[0m\n\u001b[1;32m     14\u001b[0m G \u001b[38;5;241m=\u001b[39m generate_sv_channel(L_paths, N, \u001b[38;5;241m1\u001b[39m)  \u001b[38;5;66;03m# ✅ FIXED\u001b[39;00m\n\u001b[1;32m     15\u001b[0m F \u001b[38;5;241m=\u001b[39m generate_sv_channel(L_paths, N, \u001b[38;5;241m1\u001b[39m)\n\u001b[0;32m---> 17\u001b[0m H \u001b[38;5;241m=\u001b[39m F\u001b[38;5;241m.\u001b[39mT \u001b[38;5;241m@\u001b[39m Q \u001b[38;5;241m@\u001b[39m G  \u001b[38;5;66;03m# ✅ (1×N) @ (N×N) @ (N×1) = (1×1)\u001b[39;00m\n\u001b[1;32m     18\u001b[0m y \u001b[38;5;241m=\u001b[39m H \u001b[38;5;241m+\u001b[39m noise_std \u001b[38;5;241m*\u001b[39m (np\u001b[38;5;241m.\u001b[39mrandom\u001b[38;5;241m.\u001b[39mrandn() \u001b[38;5;241m+\u001b[39m \u001b[38;5;241m1\u001b[39mj \u001b[38;5;241m*\u001b[39m np\u001b[38;5;241m.\u001b[39mrandom\u001b[38;5;241m.\u001b[39mrandn())\n\u001b[1;32m     20\u001b[0m h_vec \u001b[38;5;241m=\u001b[39m (F\u001b[38;5;241m.\u001b[39mT \u001b[38;5;241m@\u001b[39m Q)\u001b[38;5;241m.\u001b[39mflatten() \u001b[38;5;241m*\u001b[39m G\u001b[38;5;241m.\u001b[39mflatten()\n",
      "\u001b[0;31mValueError\u001b[0m: matmul: Input operand 1 has a mismatch in its core dimension 0, with gufunc signature (n?,k),(k,m?)->(n?,m?) (size 64 is different from 1)"
     ]
    }
   ],
   "source": [
    "data = generate_multiuser_ris_dataset()\n",
    "\n",
    "np.savez(\"ris_multiuser_dataset.npz\",\n",
    "         H_real=np.array([d['H_real'] for d in data]),\n",
    "         H_imag=np.array([d['H_imag'] for d in data]),\n",
    "         y_real=np.array([d['y_real'] for d in data]),\n",
    "         y_imag=np.array([d['y_imag'] for d in data]),\n",
    "         snr_db=np.array([d['snr_db'] for d in data]))\n",
    "\n",
    "print(\"✅ Multi-user RIS dataset saved.\")\n"
   ]
  },
  {
   "cell_type": "code",
   "execution_count": 24,
   "id": "e4bc58b3-959c-4ac1-8678-74ede1a7dd5e",
   "metadata": {},
   "outputs": [],
   "source": [
    "def generate_multiuser_ris_dataset(U=4, N=64, num_samples=10000, L_paths=5, snr_range=range(0, 31, 5)):\n",
    "    dataset = []\n",
    "    for snr_db in snr_range:\n",
    "        snr_linear = 10 ** (snr_db / 10)\n",
    "        noise_std = np.sqrt(1 / (2 * snr_linear))\n",
    "\n",
    "        for _ in range(num_samples // len(snr_range)):\n",
    "            theta = np.random.uniform(0, 2*np.pi, N)\n",
    "            Q = np.diag(np.exp(1j * theta))  # (N, N)\n",
    "\n",
    "            H_all, y_all = [], []\n",
    "\n",
    "            for _ in range(U):\n",
    "                G = generate_sv_channel(L_paths, 1, N)  # ✅ G: (64, 1)\n",
    "                F = generate_sv_channel(L_paths, N, 1)  # ✅ F: (1, 64)\n",
    "\n",
    "                H = F @ Q @ G  # (1, 64) @ (64, 64) @ (64, 1) → (1, 1)\n",
    "                y = H + noise_std * (np.random.randn() + 1j * np.random.randn())\n",
    "\n",
    "                h_vec = (F @ Q).flatten() * G.flatten()  # (64,)\n",
    "                H_all.append(h_vec)\n",
    "                y_all.append(y)\n",
    "\n",
    "            dataset.append({\n",
    "                \"H_real\": np.real(H_all),   # shape: (U, N)\n",
    "                \"H_imag\": np.imag(H_all),\n",
    "                \"y_real\": np.real(y_all),\n",
    "                \"y_imag\": np.imag(y_all),\n",
    "                \"snr_db\": snr_db\n",
    "            })\n",
    "\n",
    "    return dataset\n"
   ]
  },
  {
   "cell_type": "code",
   "execution_count": 26,
   "id": "b749918a-d0aa-4525-83b2-fcbdf6ac53bf",
   "metadata": {},
   "outputs": [
    {
     "name": "stdout",
     "output_type": "stream",
     "text": [
      "✅ Multi-user RIS dataset saved.\n"
     ]
    }
   ],
   "source": [
    "data = generate_multiuser_ris_dataset()\n",
    "\n",
    "np.savez(\"ris_multiuser_dataset.npz\",\n",
    "         H_real=np.array([d['H_real'] for d in data]),\n",
    "         H_imag=np.array([d['H_imag'] for d in data]),\n",
    "         y_real=np.array([d['y_real'] for d in data]),\n",
    "         y_imag=np.array([d['y_imag'] for d in data]),\n",
    "         snr_db=np.array([d['snr_db'] for d in data]))\n",
    "\n",
    "print(\"✅ Multi-user RIS dataset saved.\")\n"
   ]
  },
  {
   "cell_type": "code",
   "execution_count": 34,
   "id": "dbc85456-24ab-4ed7-94c3-b8a23445e191",
   "metadata": {},
   "outputs": [
    {
     "data": {
      "image/png": "[encoded data removed]",
      "text/plain": [
       "<Figure size 1600x600 with 8 Axes>"
      ]
     },
     "metadata": {},
     "output_type": "display_data"
    }
   ],
   "source": [
    "import matplotlib.pyplot as plt\n",
    "import numpy as np  # Also ensure NumPy is imported if not already\n",
    "\n",
    "# Example placeholders (replace with your actual data)\n",
    "U = 4  # number of users\n",
    "true_H = np.random.randn(U, 64)  # Replace with your true channel matrix\n",
    "pred_H = np.random.randn(U, 64)  # Replace with your predicted channel matrix\n",
    "\n",
    "# Plot per-user true vs predicted H\n",
    "fig, axes = plt.subplots(2, U, figsize=(16, 6))\n",
    "for u in range(U):\n",
    "    axes[0, u].imshow(np.abs(true_H[u].reshape(8, 8)), cmap='viridis')\n",
    "    axes[0, u].set_title(f\"User {u+1} True |H|\")\n",
    "\n",
    "    axes[1, u].imshow(np.abs(pred_H[u].reshape(8, 8)), cmap='viridis')\n",
    "    axes[1, u].set_title(f\"User {u+1} Predicted |H|\")\n",
    "\n",
    "plt.suptitle(\"Multi-User Channel Heatmap\")\n",
    "plt.tight_layout()\n",
    "plt.show()"
   ]
  },
  {
   "cell_type": "code",
   "execution_count": 38,
   "id": "7a955f70-51f0-4c3b-a91f-1bd228093505",
   "metadata": {},
   "outputs": [
    {
     "name": "stdout",
     "output_type": "stream",
     "text": [
      "Quantized phase shifts (radians): [3.14159265 0.         1.57079633 4.71238898 3.14159265 3.14159265\n",
      " 1.57079633 3.14159265 3.14159265 4.71238898 0.         4.71238898\n",
      " 0.         3.14159265 4.71238898 3.14159265 3.14159265 0.\n",
      " 3.14159265 4.71238898 4.71238898 4.71238898 1.57079633 4.71238898\n",
      " 4.71238898 1.57079633 1.57079633 4.71238898 0.         0.\n",
      " 0.         4.71238898 1.57079633 1.57079633 4.71238898 3.14159265\n",
      " 1.57079633 0.         1.57079633 1.57079633 3.14159265 4.71238898\n",
      " 4.71238898 0.         4.71238898 1.57079633 3.14159265 0.\n",
      " 4.71238898 3.14159265 3.14159265 0.         1.57079633 3.14159265\n",
      " 1.57079633 4.71238898 0.         0.         3.14159265 4.71238898\n",
      " 1.57079633 4.71238898 1.57079633 0.        ]\n"
     ]
    }
   ],
   "source": [
    "import numpy as np\n",
    "\n",
    "# Number of RIS elements (e.g., 64 for an 8x8 RIS)\n",
    "N = 64\n",
    "\n",
    "# Simulate continuous phase shifts (0 to 2π)\n",
    "theta = np.random.uniform(0, 2 * np.pi, size=N)\n",
    "\n",
    "# Apply 2-bit quantization (4 levels: 0, π/2, π, 3π/2)\n",
    "quantized_theta = np.round(theta / (2 * np.pi / 4)) * (2 * np.pi / 4)\n",
    "\n",
    "# Optional: wrap into [0, 2π)\n",
    "quantized_theta = np.mod(quantized_theta, 2 * np.pi)\n",
    "\n",
    "# Print to check\n",
    "print(\"Quantized phase shifts (radians):\", quantized_theta)"
   ]
  },
  {
   "cell_type": "code",
   "execution_count": 42,
   "id": "2e9cf5cb-6ce3-4059-bc8f-0ba7100d21c5",
   "metadata": {},
   "outputs": [],
   "source": [
    "import matplotlib.pyplot as plt\n",
    "import numpy as np\n",
    "\n",
    "def plot_multi_user_heatmaps(true_H, pred_H, U=4):\n",
    "    \"\"\"\n",
    "    true_H: shape (U, N)\n",
    "    pred_H: shape (U, N)\n",
    "    N should be 64 (i.e., 8×8)\n",
    "    \"\"\"\n",
    "    assert true_H.shape == pred_H.shape and true_H.shape[1] == 64, \"Shape must be (U, 64)\"\n",
    "    \n",
    "    fig, axes = plt.subplots(2, U, figsize=(4 * U, 6))\n",
    "\n",
    "    for u in range(U):\n",
    "        H_true_reshaped = np.abs(true_H[u].reshape(8, 8))\n",
    "        H_pred_reshaped = np.abs(pred_H[u].reshape(8, 8))\n",
    "\n",
    "        sns.heatmap(H_true_reshaped, ax=axes[0, u], cbar=False, cmap='viridis')\n",
    "        axes[0, u].set_title(f\"User {u+1} True |H|\")\n",
    "\n",
    "        sns.heatmap(H_pred_reshaped, ax=axes[1, u], cbar=False, cmap='viridis')\n",
    "        axes[1, u].set_title(f\"User {u+1} Predicted |H|\")\n",
    "\n",
    "    plt.suptitle(\"Multi-User RIS Channel Heatmap Comparison\")\n",
    "    plt.tight_layout()\n",
    "    plt.show()\n",
    "\n",
    "# 👇 Example usage (assuming you have already prepared the data)\n",
    "# plot_multi_user_heatmaps(true_H_array, pred_H_array, U=4)\n"
   ]
  },
  {
   "cell_type": "code",
   "execution_count": 44,
   "id": "6573dd05-57dd-401e-8d9f-cbad67ac73cf",
   "metadata": {},
   "outputs": [
    {
     "data": {
      "image/png": "[encoded data removed]",
      "text/plain": [
       "<Figure size 1600x600 with 8 Axes>"
      ]
     },
     "metadata": {},
     "output_type": "display_data"
    }
   ],
   "source": [
    "import numpy as np\n",
    "import seaborn as sns\n",
    "import matplotlib.pyplot as plt\n",
    "\n",
    "def plot_multi_user_heatmaps(true_H, pred_H, U=4):\n",
    "    assert true_H.shape == pred_H.shape and true_H.shape[1] == 64, \"Shape must be (U, 64)\"\n",
    "    fig, axes = plt.subplots(2, U, figsize=(4 * U, 6))\n",
    "\n",
    "    for u in range(U):\n",
    "        H_true_reshaped = np.abs(true_H[u].reshape(8, 8))\n",
    "        H_pred_reshaped = np.abs(pred_H[u].reshape(8, 8))\n",
    "        sns.heatmap(H_true_reshaped, ax=axes[0, u], cbar=False, cmap='viridis')\n",
    "        axes[0, u].set_title(f\"User {u+1} True |H|\")\n",
    "        sns.heatmap(H_pred_reshaped, ax=axes[1, u], cbar=False, cmap='viridis')\n",
    "        axes[1, u].set_title(f\"User {u+1} Predicted |H|\")\n",
    "\n",
    "    plt.suptitle(\"Multi-User RIS Channel Heatmap Comparison\")\n",
    "    plt.tight_layout()\n",
    "    plt.show()\n",
    "\n",
    "# 👇 Try it with dummy data\n",
    "U = 4\n",
    "true_H_array = np.random.randn(U, 64)\n",
    "pred_H_array = true_H_array + np.random.normal(0, 0.2, size=(U, 64))\n",
    "\n",
    "plot_multi_user_heatmaps(true_H_array, pred_H_array, U=U)\n"
   ]
  },
  {
   "cell_type": "code",
   "execution_count": 46,
   "id": "6ffab01b-8a2c-4124-80d6-4995516141b8",
   "metadata": {},
   "outputs": [
    {
     "name": "stdout",
     "output_type": "stream",
     "text": [
      "(4, 64)\n",
      "(4, 64)\n"
     ]
    }
   ],
   "source": [
    "print(true_H_array.shape)\n",
    "print(pred_H_array.shape)\n"
   ]
  },
  {
   "cell_type": "code",
   "execution_count": null,
   "id": "1faa87a9-5012-492c-bbd8-371062f1a2f9",
   "metadata": {},
   "outputs": [],
   "source": []
  }
 ],
 "metadata": {
  "kernelspec": {
   "display_name": "Python 3 (ipykernel)",
   "language": "python",
   "name": "python3"
  },
  "language_info": {
   "codemirror_mode": {
    "name": "ipython",
    "version": 3
   },
   "file_extension": ".py",
   "mimetype": "text/x-python",
   "name": "python",
   "nbconvert_exporter": "python",
   "pygments_lexer": "ipython3",
   "version": "3.12.4"
  }
 },
 "nbformat": 4,
 "nbformat_minor": 5
}
