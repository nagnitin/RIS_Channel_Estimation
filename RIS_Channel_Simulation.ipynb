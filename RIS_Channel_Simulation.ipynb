{
 "cells": [
  {
   "cell_type": "markdown",
   "id": "2bbefd78-b9c3-43b7-865d-30a7287af31a",
   "metadata": {},
   "source": [
    "Import Dependencies"
   ]
  },
  {
   "cell_type": "code",
   "execution_count": 3,
   "id": "032d29ff-0bc7-4ad8-9206-5e6596c6f7a1",
   "metadata": {},
   "outputs": [],
   "source": [
    "import numpy as np\n",
    "import torch\n",
    "import torch.nn as nn\n",
    "import torch.optim as optim\n",
    "from torch.utils.data import Dataset, DataLoader\n",
    "import matplotlib.pyplot as plt\n",
    "import seaborn as sns\n",
    "import time"
   ]
  },
  {
   "cell_type": "markdown",
   "id": "ca1a11b8-ebc7-4aa7-a97b-4fef8de02372",
   "metadata": {},
   "source": [
    "Channel Modeling (Saleh–Valenzuela)"
   ]
  },
  {
   "cell_type": "code",
   "execution_count": 5,
   "id": "a174999c-75c2-490c-8820-8aae0098a81b",
   "metadata": {},
   "outputs": [],
   "source": [
    "def array_response(angle, size, d=0.05, wavelength=0.1):\n",
    "    k = 2 * np.pi / wavelength\n",
    "    return np.exp(1j * k * d * np.arange(size) * np.sin(angle))\n",
    "\n",
    "def generate_sv_channel(num_paths, tx_size, rx_size):\n",
    "    H = np.zeros((rx_size, tx_size), dtype=complex)\n",
    "    for _ in range(num_paths):\n",
    "        alpha = (np.random.randn() + 1j*np.random.randn()) / np.sqrt(2)\n",
    "        theta_t = np.random.uniform(-np.pi/2, np.pi/2)\n",
    "        theta_r = np.random.uniform(-np.pi/2, np.pi/2)\n",
    "        at = array_response(theta_t, tx_size)\n",
    "        ar = array_response(theta_r, rx_size)\n",
    "        H += alpha * np.outer(ar, at.conj())\n",
    "    return H"
   ]
  },
  {
   "cell_type": "markdown",
   "id": "691574ae-b8f2-4f0e-b940-a0ffd68f02f5",
   "metadata": {},
   "source": [
    "Generate Channel Dataset (with SNR & Noise)"
   ]
  },
  {
   "cell_type": "code",
   "execution_count": 7,
   "id": "5be56063-3ea2-4698-83b1-4122ec06b77d",
   "metadata": {},
   "outputs": [],
   "source": [
    "def generate_dataset(num_samples=10000, ris_elements=64, snr_range=range(0, 31, 5), L_paths=5):\n",
    "    data = []\n",
    "    for snr_db in snr_range:\n",
    "        snr_linear = 10 ** (snr_db / 10)\n",
    "        noise_std = np.sqrt(1 / (2 * snr_linear))\n",
    "        for _ in range(num_samples // len(snr_range)):\n",
    "            G = generate_sv_channel(L_paths, 1, ris_elements)\n",
    "            F = generate_sv_channel(L_paths, ris_elements, 1)\n",
    "            theta = np.random.uniform(0, 2*np.pi, ris_elements)\n",
    "            Q = np.diag(np.exp(1j * theta))\n",
    "            H = F @ Q @ G\n",
    "            y = H @ np.array([1]) + noise_std * (np.random.randn() + 1j*np.random.randn())\n",
    "            data.append({\n",
    "                'H_real': np.real(H).flatten(),\n",
    "                'H_imag': np.imag(H).flatten(),\n",
    "                'y_real': np.real(y).flatten(),\n",
    "                'y_imag': np.imag(y).flatten(),\n",
    "                'snr_db': snr_db\n",
    "            })\n",
    "    return data"
   ]
  },
  {
   "cell_type": "code",
   "execution_count": null,
   "id": "37cf1578-c1e0-4160-b37b-c1500aa1f7a8",
   "metadata": {},
   "outputs": [],
   "source": []
  },
  {
   "cell_type": "code",
   "execution_count": 9,
   "id": "9b215696-df40-4ae8-8321-6a5984367e14",
   "metadata": {},
   "outputs": [],
   "source": [
    "data = generate_dataset()\n",
    "np.savez(\"ris_channel_dataset.npz\",\n",
    "         H_real=np.array([d['H_real'] for d in data]),\n",
    "         H_imag=np.array([d['H_imag'] for d in data]),\n",
    "         y_real=np.array([d['y_real'] for d in data]),\n",
    "         y_imag=np.array([d['y_imag'] for d in data]),\n",
    "         snr_db=np.array([d['snr_db'] for d in data]))"
   ]
  },
  {
   "cell_type": "code",
   "execution_count": 11,
   "id": "6f929349-138d-4676-b79f-7fcff3f6519d",
   "metadata": {},
   "outputs": [],
   "source": [
    "import numpy as np\n",
    "\n",
    "# Helper functions\n",
    "def array_response(angle, size, d=0.05, wavelength=0.1):\n",
    "    k = 2 * np.pi / wavelength\n",
    "    return np.exp(1j * k * d * np.arange(size) * np.sin(angle))\n",
    "\n",
    "def generate_sv_channel(num_paths, tx_size, rx_size):\n",
    "    H = np.zeros((rx_size, tx_size), dtype=complex)\n",
    "    for _ in range(num_paths):\n",
    "        alpha = (np.random.randn() + 1j * np.random.randn()) / np.sqrt(2)\n",
    "        theta_t = np.random.uniform(-np.pi/2, np.pi/2)\n",
    "        theta_r = np.random.uniform(-np.pi/2, np.pi/2)\n",
    "        at = array_response(theta_t, tx_size)\n",
    "        ar = array_response(theta_r, rx_size)\n",
    "        H += alpha * np.outer(ar, at.conj())\n",
    "    return H\n"
   ]
  },
  {
   "cell_type": "code",
   "execution_count": 13,
   "id": "ad52532e-8537-49eb-8ff5-247faf5d734b",
   "metadata": {},
   "outputs": [
    {
     "name": "stdout",
     "output_type": "stream",
     "text": [
      "✅ Dataset generated and saved as 'ris_channel_dataset.npz'\n"
     ]
    }
   ],
   "source": [
    "def generate_dataset(num_samples=10000, ris_elements=64, snr_range=range(0, 31, 5), L_paths=5):\n",
    "    data = []\n",
    "    for snr_db in snr_range:\n",
    "        snr_linear = 10 ** (snr_db / 10)\n",
    "        noise_std = np.sqrt(1 / (2 * snr_linear))\n",
    "        for _ in range(num_samples // len(snr_range)):\n",
    "            G = generate_sv_channel(L_paths, 1, ris_elements)\n",
    "            F = generate_sv_channel(L_paths, ris_elements, 1)\n",
    "            theta = np.random.uniform(0, 2*np.pi, ris_elements)\n",
    "            Q = np.diag(np.exp(1j * theta))\n",
    "            H = F @ Q @ G\n",
    "            y = H @ np.array([1]) + noise_std * (np.random.randn() + 1j*np.random.randn())\n",
    "            data.append({\n",
    "                'H_real': np.real(H).flatten(),\n",
    "                'H_imag': np.imag(H).flatten(),\n",
    "                'y_real': np.real(y).flatten(),\n",
    "                'y_imag': np.imag(y).flatten(),\n",
    "                'snr_db': snr_db\n",
    "            })\n",
    "    return data\n",
    "\n",
    "# Generate & save dataset\n",
    "data = generate_dataset()\n",
    "\n",
    "np.savez(\"ris_channel_dataset.npz\",\n",
    "         H_real=np.array([d['H_real'] for d in data]),\n",
    "         H_imag=np.array([d['H_imag'] for d in data]),\n",
    "         y_real=np.array([d['y_real'] for d in data]),\n",
    "         y_imag=np.array([d['y_imag'] for d in data]),\n",
    "         snr_db=np.array([d['snr_db'] for d in data]))\n",
    "\n",
    "print(\"✅ Dataset generated and saved as 'ris_channel_dataset.npz'\")\n"
   ]
  },
  {
   "cell_type": "code",
   "execution_count": 15,
   "id": "d72f7138-993e-466c-8fe3-193a01c31aa5",
   "metadata": {},
   "outputs": [
    {
     "name": "stdout",
     "output_type": "stream",
     "text": [
      "Dataset exists: True\n"
     ]
    }
   ],
   "source": [
    "import os\n",
    "print(\"Dataset exists:\", os.path.exists(\"ris_channel_dataset.npz\"))"
   ]
  },
  {
   "cell_type": "code",
   "execution_count": 17,
   "id": "484b7d58-c444-4fac-b6ec-3c9f5759c4c2",
   "metadata": {},
   "outputs": [
    {
     "name": "stdout",
     "output_type": "stream",
     "text": [
      "H_real shape: (9996, 1)\n",
      "H_imag shape: (9996, 1)\n",
      "y_real shape: (9996, 1)\n",
      "y_imag shape: (9996, 1)\n"
     ]
    }
   ],
   "source": [
    "data = np.load(\"ris_channel_dataset.npz\")\n",
    "print(\"H_real shape:\", data[\"H_real\"].shape)   # Should be (9996, 64)\n",
    "print(\"H_imag shape:\", data[\"H_imag\"].shape)   # Should be (9996, 64)\n",
    "print(\"y_real shape:\", data[\"y_real\"].shape)   # Should be (9996, 1)\n",
    "print(\"y_imag shape:\", data[\"y_imag\"].shape)   # Should be (9996, 1)\n"
   ]
  },
  {
   "cell_type": "code",
   "execution_count": 19,
   "id": "9b88631d-f865-4c65-b871-175417f4fba0",
   "metadata": {},
   "outputs": [
    {
     "name": "stdout",
     "output_type": "stream",
     "text": [
      "✅ Fixed dataset saved as ris_channel_dataset.npz\n"
     ]
    }
   ],
   "source": [
    "# Generate corrected dataset with flattened H\n",
    "data = generate_dataset()\n",
    "\n",
    "H_real = np.array([d['H_real'].flatten() for d in data])   # shape: (9996, 64)\n",
    "H_imag = np.array([d['H_imag'].flatten() for d in data])   # shape: (9996, 64)\n",
    "y_real = np.array([d['y_real'] for d in data])             # shape: (9996, 1)\n",
    "y_imag = np.array([d['y_imag'] for d in data])             # shape: (9996, 1)\n",
    "snr_db = np.array([d['snr_db'] for d in data])             # shape: (9996,)\n",
    "\n",
    "# ✅ Save correctly\n",
    "np.savez(\"ris_channel_dataset.npz\",\n",
    "         H_real=H_real,\n",
    "         H_imag=H_imag,\n",
    "         y_real=y_real,\n",
    "         y_imag=y_imag,\n",
    "         snr_db=snr_db)\n",
    "\n",
    "print(\"✅ Fixed dataset saved as ris_channel_dataset.npz\")\n"
   ]
  },
  {
   "cell_type": "code",
   "execution_count": 21,
   "id": "3c24f054-f405-40cb-ad8a-92686366e26d",
   "metadata": {},
   "outputs": [
    {
     "name": "stdout",
     "output_type": "stream",
     "text": [
      "✅ H_real shape: (9996, 1)\n",
      "✅ H_imag shape: (9996, 1)\n"
     ]
    }
   ],
   "source": [
    "data = np.load(\"ris_channel_dataset.npz\")\n",
    "print(\"✅ H_real shape:\", data[\"H_real\"].shape)   # (9996, 64)\n",
    "print(\"✅ H_imag shape:\", data[\"H_imag\"].shape)   # (9996, 64)\n"
   ]
  },
  {
   "cell_type": "code",
   "execution_count": 23,
   "id": "ed0253d1-8104-45d4-b1e6-2a09bb2b0986",
   "metadata": {},
   "outputs": [],
   "source": [
    "def generate_dataset(num_samples=10000, ris_elements=64, snr_range=range(0, 31, 5), L_paths=5):\n",
    "    data = []\n",
    "    for snr_db in snr_range:\n",
    "        snr_linear = 10 ** (snr_db / 10)\n",
    "        noise_std = np.sqrt(1 / (2 * snr_linear))\n",
    "        for _ in range(num_samples // len(snr_range)):\n",
    "            G = generate_sv_channel(L_paths, 1, ris_elements)         # shape: (64, 1)\n",
    "            F = generate_sv_channel(L_paths, ris_elements, 1)         # shape: (1, 64)\n",
    "            theta = np.random.uniform(0, 2*np.pi, ris_elements)\n",
    "            Q = np.diag(np.exp(1j * theta))                           # shape: (64, 64)\n",
    "            \n",
    "            H = F @ Q @ G     # shape: (1, 1) → scalar\n",
    "            h_vector = (F @ Q).flatten() * G.flatten()               # shape: (64,) - RIS channel structure\n",
    "            \n",
    "            y = H @ np.array([1]) + noise_std * (np.random.randn() + 1j*np.random.randn())\n",
    "\n",
    "            data.append({\n",
    "                'H_real': np.real(h_vector),                         # ✅ shape: (64,)\n",
    "                'H_imag': np.imag(h_vector),\n",
    "                'y_real': np.real(y).flatten(),\n",
    "                'y_imag': np.imag(y).flatten(),\n",
    "                'snr_db': snr_db\n",
    "            })\n",
    "    return data\n"
   ]
  },
  {
   "cell_type": "code",
   "execution_count": 25,
   "id": "947adfa2-6bd3-4076-add5-cd22f57bd131",
   "metadata": {},
   "outputs": [
    {
     "name": "stdout",
     "output_type": "stream",
     "text": [
      "✅ Dataset fixed and saved!\n"
     ]
    }
   ],
   "source": [
    "# Flattened H_real and H_imag now saved as (9996, 64)\n",
    "data = generate_dataset()\n",
    "\n",
    "np.savez(\"ris_channel_dataset.npz\",\n",
    "         H_real=np.array([d['H_real'] for d in data]),\n",
    "         H_imag=np.array([d['H_imag'] for d in data]),\n",
    "         y_real=np.array([d['y_real'] for d in data]),\n",
    "         y_imag=np.array([d['y_imag'] for d in data]),\n",
    "         snr_db=np.array([d['snr_db'] for d in data]))\n",
    "\n",
    "print(\"✅ Dataset fixed and saved!\")\n"
   ]
  },
  {
   "cell_type": "code",
   "execution_count": 27,
   "id": "9cbad966-2324-41a4-946b-52d7990be23f",
   "metadata": {},
   "outputs": [
    {
     "name": "stdout",
     "output_type": "stream",
     "text": [
      "H_real shape: (9996, 64)\n",
      "H_imag shape: (9996, 64)\n"
     ]
    }
   ],
   "source": [
    "data = np.load(\"ris_channel_dataset.npz\")\n",
    "print(\"H_real shape:\", data['H_real'].shape)   # ✅ Expected: (9996, 64)\n",
    "print(\"H_imag shape:\", data['H_imag'].shape)   # ✅ Expected: (9996, 64)\n"
   ]
  },
  {
   "cell_type": "code",
   "execution_count": null,
   "id": "e7bcebc9-7fbc-4c26-9963-5a450a738aad",
   "metadata": {},
   "outputs": [],
   "source": []
  }
 ],
 "metadata": {
  "kernelspec": {
   "display_name": "Python 3 (ipykernel)",
   "language": "python",
   "name": "python3"
  },
  "language_info": {
   "codemirror_mode": {
    "name": "ipython",
    "version": 3
   },
   "file_extension": ".py",
   "mimetype": "text/x-python",
   "name": "python",
   "nbconvert_exporter": "python",
   "pygments_lexer": "ipython3",
   "version": "3.12.4"
  }
 },
 "nbformat": 4,
 "nbformat_minor": 5
}
